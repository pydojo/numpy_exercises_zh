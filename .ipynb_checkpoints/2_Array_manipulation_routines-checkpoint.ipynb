{
 "cells": [
  {
   "cell_type": "markdown",
   "metadata": {},
   "source": [
    "# 阵列操作路线"
   ]
  },
  {
   "cell_type": "code",
   "execution_count": 1,
   "metadata": {},
   "outputs": [],
   "source": [
    "import numpy as np"
   ]
  },
  {
   "cell_type": "code",
   "execution_count": 2,
   "metadata": {},
   "outputs": [
    {
     "data": {
      "text/plain": [
       "'1.15.0'"
      ]
     },
     "execution_count": 2,
     "metadata": {},
     "output_type": "execute_result"
    }
   ],
   "source": [
    "np.__version__"
   ]
  },
  {
   "cell_type": "markdown",
   "metadata": {
    "collapsed": true
   },
   "source": [
    " 1. [ ] 设`x`是一个 ndarray `[10, 10, 3]`，所含全部元素值都设置成`1`。重新塑形`x`后第二空间的规模等于`150`。"
   ]
  },
  {
   "cell_type": "code",
   "execution_count": 3,
   "metadata": {},
   "outputs": [
    {
     "data": {
      "text/plain": [
       "array([[1., 1., 1., 1., 1., 1., 1., 1., 1., 1., 1., 1., 1., 1., 1., 1.,\n",
       "        1., 1., 1., 1., 1., 1., 1., 1., 1., 1., 1., 1., 1., 1., 1., 1.,\n",
       "        1., 1., 1., 1., 1., 1., 1., 1., 1., 1., 1., 1., 1., 1., 1., 1.,\n",
       "        1., 1., 1., 1., 1., 1., 1., 1., 1., 1., 1., 1., 1., 1., 1., 1.,\n",
       "        1., 1., 1., 1., 1., 1., 1., 1., 1., 1., 1., 1., 1., 1., 1., 1.,\n",
       "        1., 1., 1., 1., 1., 1., 1., 1., 1., 1., 1., 1., 1., 1., 1., 1.,\n",
       "        1., 1., 1., 1., 1., 1., 1., 1., 1., 1., 1., 1., 1., 1., 1., 1.,\n",
       "        1., 1., 1., 1., 1., 1., 1., 1., 1., 1., 1., 1., 1., 1., 1., 1.,\n",
       "        1., 1., 1., 1., 1., 1., 1., 1., 1., 1., 1., 1., 1., 1., 1., 1.,\n",
       "        1., 1., 1., 1., 1., 1.],\n",
       "       [1., 1., 1., 1., 1., 1., 1., 1., 1., 1., 1., 1., 1., 1., 1., 1.,\n",
       "        1., 1., 1., 1., 1., 1., 1., 1., 1., 1., 1., 1., 1., 1., 1., 1.,\n",
       "        1., 1., 1., 1., 1., 1., 1., 1., 1., 1., 1., 1., 1., 1., 1., 1.,\n",
       "        1., 1., 1., 1., 1., 1., 1., 1., 1., 1., 1., 1., 1., 1., 1., 1.,\n",
       "        1., 1., 1., 1., 1., 1., 1., 1., 1., 1., 1., 1., 1., 1., 1., 1.,\n",
       "        1., 1., 1., 1., 1., 1., 1., 1., 1., 1., 1., 1., 1., 1., 1., 1.,\n",
       "        1., 1., 1., 1., 1., 1., 1., 1., 1., 1., 1., 1., 1., 1., 1., 1.,\n",
       "        1., 1., 1., 1., 1., 1., 1., 1., 1., 1., 1., 1., 1., 1., 1., 1.,\n",
       "        1., 1., 1., 1., 1., 1., 1., 1., 1., 1., 1., 1., 1., 1., 1., 1.,\n",
       "        1., 1., 1., 1., 1., 1.]])"
      ]
     },
     "execution_count": 3,
     "metadata": {},
     "output_type": "execute_result"
    }
   ],
   "source": [
    "x = np.ones_like(np.ndarray([10,10,3]).reshape(2, 150))\n",
    "x"
   ]
  },
  {
   "cell_type": "code",
   "execution_count": 4,
   "metadata": {},
   "outputs": [
    {
     "data": {
      "text/plain": [
       "array([[1., 1., 1., 1., 1., 1., 1., 1., 1., 1., 1., 1., 1., 1., 1., 1.,\n",
       "        1., 1., 1., 1., 1., 1., 1., 1., 1., 1., 1., 1., 1., 1., 1., 1.,\n",
       "        1., 1., 1., 1., 1., 1., 1., 1., 1., 1., 1., 1., 1., 1., 1., 1.,\n",
       "        1., 1., 1., 1., 1., 1., 1., 1., 1., 1., 1., 1., 1., 1., 1., 1.,\n",
       "        1., 1., 1., 1., 1., 1., 1., 1., 1., 1., 1., 1., 1., 1., 1., 1.,\n",
       "        1., 1., 1., 1., 1., 1., 1., 1., 1., 1., 1., 1., 1., 1., 1., 1.,\n",
       "        1., 1., 1., 1., 1., 1., 1., 1., 1., 1., 1., 1., 1., 1., 1., 1.,\n",
       "        1., 1., 1., 1., 1., 1., 1., 1., 1., 1., 1., 1., 1., 1., 1., 1.,\n",
       "        1., 1., 1., 1., 1., 1., 1., 1., 1., 1., 1., 1., 1., 1., 1., 1.,\n",
       "        1., 1., 1., 1., 1., 1.],\n",
       "       [1., 1., 1., 1., 1., 1., 1., 1., 1., 1., 1., 1., 1., 1., 1., 1.,\n",
       "        1., 1., 1., 1., 1., 1., 1., 1., 1., 1., 1., 1., 1., 1., 1., 1.,\n",
       "        1., 1., 1., 1., 1., 1., 1., 1., 1., 1., 1., 1., 1., 1., 1., 1.,\n",
       "        1., 1., 1., 1., 1., 1., 1., 1., 1., 1., 1., 1., 1., 1., 1., 1.,\n",
       "        1., 1., 1., 1., 1., 1., 1., 1., 1., 1., 1., 1., 1., 1., 1., 1.,\n",
       "        1., 1., 1., 1., 1., 1., 1., 1., 1., 1., 1., 1., 1., 1., 1., 1.,\n",
       "        1., 1., 1., 1., 1., 1., 1., 1., 1., 1., 1., 1., 1., 1., 1., 1.,\n",
       "        1., 1., 1., 1., 1., 1., 1., 1., 1., 1., 1., 1., 1., 1., 1., 1.,\n",
       "        1., 1., 1., 1., 1., 1., 1., 1., 1., 1., 1., 1., 1., 1., 1., 1.,\n",
       "        1., 1., 1., 1., 1., 1.]])"
      ]
     },
     "execution_count": 4,
     "metadata": {},
     "output_type": "execute_result"
    }
   ],
   "source": [
    "y = np.ones([10, 10, 3])\n",
    "out = np.reshape(y, [-1, 150])\n",
    "out"
   ]
  },
  {
   "cell_type": "code",
   "execution_count": 5,
   "metadata": {},
   "outputs": [],
   "source": [
    "assert np.allclose(x, out)"
   ]
  },
  {
   "cell_type": "markdown",
   "metadata": {},
   "source": [
    " 2. [ ] 设`x`是一个 array `[[1, 2, 3], [4, 5, 6]]`，把该阵列变成`[1 4 2 5 3 6]`。"
   ]
  },
  {
   "cell_type": "code",
   "execution_count": 6,
   "metadata": {},
   "outputs": [
    {
     "data": {
      "text/plain": [
       "array([1, 4, 2, 5, 3, 6])"
      ]
     },
     "execution_count": 6,
     "metadata": {},
     "output_type": "execute_result"
    }
   ],
   "source": [
    "x = np.linspace(1, 6, 6, dtype=int).reshape(2, 3)\n",
    "out1 = x.flatten(order='F')\n",
    "out2 = np.ravel(x, order='F')\n",
    "assert np.allclose(out1, out2)\n",
    "out1"
   ]
  },
  {
   "cell_type": "markdown",
   "metadata": {},
   "source": [
    " 3. [ ] 设`x`是一个 array `[[1, 2, 3], [4, 5, 6]]`，获得第五个元素值。"
   ]
  },
  {
   "cell_type": "code",
   "execution_count": 7,
   "metadata": {},
   "outputs": [
    {
     "data": {
      "text/plain": [
       "5"
      ]
     },
     "execution_count": 7,
     "metadata": {},
     "output_type": "execute_result"
    }
   ],
   "source": [
    "x = np.linspace(1, 6, 6, dtype=int).reshape(2, 3)\n",
    "out1 = x.flat[4]\n",
    "out2 = np.ravel(x)[4]\n",
    "assert np.allclose(out1, out2)\n",
    "assert np.allclose(x[1][1], out1)\n",
    "out1"
   ]
  },
  {
   "cell_type": "markdown",
   "metadata": {},
   "source": [
    " 4. [ ] 设`x`是一个形状为`(3, 4, 5)`的任意一个 3D 阵列，对`x`的空间进行排列后新的形状为`(4,3,5)`。\n"
   ]
  },
  {
   "cell_type": "code",
   "execution_count": 8,
   "metadata": {},
   "outputs": [
    {
     "data": {
      "text/plain": [
       "(4, 3, 5)"
      ]
     },
     "execution_count": 8,
     "metadata": {},
     "output_type": "execute_result"
    }
   ],
   "source": [
    "x = np.zeros((3, 4, 5))\n",
    "out1 = np.swapaxes(x, 1, 0)\n",
    "out2 = x.transpose([1, 0, 2])\n",
    "assert out1.shape == out2.shape\n",
    "out1.shape"
   ]
  },
  {
   "cell_type": "markdown",
   "metadata": {},
   "source": [
    " 5. [ ] 设`x`是一个形状为`(3, 4)`的任意一个2D阵列，对`x`的空间进行排列后新的形状为`(4,3)`。"
   ]
  },
  {
   "cell_type": "code",
   "execution_count": 9,
   "metadata": {},
   "outputs": [
    {
     "data": {
      "text/plain": [
       "(4, 3)"
      ]
     },
     "execution_count": 9,
     "metadata": {},
     "output_type": "execute_result"
    }
   ],
   "source": [
    "x = np.ones((3, 4))\n",
    "out1 = np.swapaxes(x, 1, 0)\n",
    "out2 = x.transpose()\n",
    "out3 = x.T\n",
    "assert out1.shape == out2.shape == out3.shape\n",
    "out1.shape"
   ]
  },
  {
   "cell_type": "markdown",
   "metadata": {},
   "source": [
    " 6. [ ] 设`x`是一个形状为`(3, 4)`的任意一个2D阵列，插入一个新轴后`x`的形状变成`(3, 1, 4)`。"
   ]
  },
  {
   "cell_type": "code",
   "execution_count": 10,
   "metadata": {},
   "outputs": [
    {
     "data": {
      "text/plain": [
       "(3, 1, 4)"
      ]
     },
     "execution_count": 10,
     "metadata": {},
     "output_type": "execute_result"
    }
   ],
   "source": [
    "x = np.ones((3, 4))\n",
    "np.expand_dims(x, axis=1).shape"
   ]
  },
  {
   "cell_type": "markdown",
   "metadata": {},
   "source": [
    " 7. [ ] 设`x`是一个形状为`(3, 4, 1)`的任意一个3D阵列，移除单一空间后`x`的形状会是`(3, 4)`。"
   ]
  },
  {
   "cell_type": "code",
   "execution_count": 11,
   "metadata": {},
   "outputs": [
    {
     "data": {
      "text/plain": [
       "(3, 4)"
      ]
     },
     "execution_count": 11,
     "metadata": {},
     "output_type": "execute_result"
    }
   ],
   "source": [
    "x = np.ones((3, 4, 1))\n",
    "np.squeeze(x).shape"
   ]
  },
  {
   "cell_type": "markdown",
   "metadata": {},
   "source": [
    " 8. [ ] 设`x`是一个阵列<br/>\n",
    "[[ 1 2 3],<br/>\n",
    "[ 4 5 6]]<br/><br/>\n",
    "而`y`也是一个阵列<br/>\n",
    "[[ 7 8 9],<br/>\n",
    "[10 11 12]]<br/>\n",
    "把`x`和`y`连接起来后形成的一个新阵列是如下样子：<br/>[[1, 2, 3, 7, 8, 9],<br/>[4, 5, 6, 10, 11, 12]]\n"
   ]
  },
  {
   "cell_type": "code",
   "execution_count": 12,
   "metadata": {},
   "outputs": [
    {
     "data": {
      "text/plain": [
       "array([[ 1,  2,  3,  7,  8,  9],\n",
       "       [ 4,  5,  6, 10, 11, 12]])"
      ]
     },
     "execution_count": 12,
     "metadata": {},
     "output_type": "execute_result"
    }
   ],
   "source": [
    "x = np.linspace(1, 6, 6, dtype=int).reshape(2, 3)\n",
    "y = np.linspace(7, 12, 6, dtype=int).reshape(2, 3)\n",
    "out1 = np.concatenate((x, y), 1)\n",
    "out2 = np.hstack((x, y))\n",
    "assert np.allclose(out1, out2)\n",
    "out2"
   ]
  },
  {
   "cell_type": "markdown",
   "metadata": {},
   "source": [
    " 9. [ ] 设`x`是一个阵列<br/>\n",
    "[[ 1 2 3],<br/>\n",
    "[ 4 5 6]]<br/><br/>\n",
    "而`y`也是一个阵列<br/>\n",
    "[[ 7 8 9],<br/>\n",
    "[10 11 12]]<br/>\n",
    "把`x`和`y`连接起来后形成的一个新阵列是如下样子：<br/>[[ 1  2  3]<br/>\n",
    " [ 4  5  6]<br/>\n",
    " [ 7  8  9]<br/>\n",
    " [10 11 12]]\n"
   ]
  },
  {
   "cell_type": "code",
   "execution_count": 13,
   "metadata": {},
   "outputs": [
    {
     "data": {
      "text/plain": [
       "array([[ 1,  2,  3],\n",
       "       [ 4,  5,  6],\n",
       "       [ 7,  8,  9],\n",
       "       [10, 11, 12]])"
      ]
     },
     "execution_count": 13,
     "metadata": {},
     "output_type": "execute_result"
    }
   ],
   "source": [
    "x = np.linspace(1, 6, 6, dtype=int).reshape(2, 3)\n",
    "y = np.linspace(7, 12, 6, dtype=int).reshape(2, 3)\n",
    "out1 = np.concatenate((x, y), 0)\n",
    "out2 = np.vstack((x, y))\n",
    "assert np.allclose(out1, out2)\n",
    "out2"
   ]
  },
  {
   "cell_type": "markdown",
   "metadata": {},
   "source": [
    " 10. [ ] 设`x`是一个阵列`[1 2 3]`，`y`是`[4 5 6]`，把`xy`变成`[[1, 4], [2, 5], [3, 6]]`。"
   ]
  },
  {
   "cell_type": "code",
   "execution_count": 14,
   "metadata": {},
   "outputs": [
    {
     "data": {
      "text/plain": [
       "array([[1, 4],\n",
       "       [2, 5],\n",
       "       [3, 6]])"
      ]
     },
     "execution_count": 14,
     "metadata": {},
     "output_type": "execute_result"
    }
   ],
   "source": [
    "x = np.array([1,2,3])\n",
    "y = np.array([4,5,6])\n",
    "out1 = np.column_stack((x, y))\n",
    "out2 = np.squeeze(np.dstack((x, y)))\n",
    "out3 = np.vstack((x, y)).T\n",
    "assert np.allclose(out1, out2)\n",
    "assert np.allclose(out2, out3)\n",
    "out1"
   ]
  },
  {
   "cell_type": "markdown",
   "metadata": {},
   "source": [
    " 11. [ ] 设`x`和`y`分别是阵列`[[1],[2],[3]]`和`[[4], [5], [6]]`，把`x`变成`[[[1, 4]], [[2, 5]], [[3, 6]]]`。"
   ]
  },
  {
   "cell_type": "code",
   "execution_count": 15,
   "metadata": {},
   "outputs": [
    {
     "data": {
      "text/plain": [
       "array([[[1, 4]],\n",
       "\n",
       "       [[2, 5]],\n",
       "\n",
       "       [[3, 6]]])"
      ]
     },
     "execution_count": 15,
     "metadata": {},
     "output_type": "execute_result"
    }
   ],
   "source": [
    "x = np.linspace(1, 3, 3, dtype=int).reshape(3, 1)\n",
    "y = np.linspace(4, 6, 3, dtype=int).reshape(3, 1)\n",
    "out = np.dstack((x, y))\n",
    "out"
   ]
  },
  {
   "cell_type": "markdown",
   "metadata": {},
   "source": [
    " 12. [ ] 设`x`是一个阵列`[1, 2, 3, ..., 9]`，把`x`分解成3个阵列，每个阵列中的元素数量分别是`4`、`2`和`3`个，元素保持原有顺序。"
   ]
  },
  {
   "cell_type": "code",
   "execution_count": 16,
   "metadata": {},
   "outputs": [
    {
     "data": {
      "text/plain": [
       "[array([1, 2, 3, 4]), array([5, 6]), array([7, 8, 9])]"
      ]
     },
     "execution_count": 16,
     "metadata": {},
     "output_type": "execute_result"
    }
   ],
   "source": [
    "x = np.arange(1, 10)\n",
    "np.split(x, [4, 6])"
   ]
  },
  {
   "cell_type": "markdown",
   "metadata": {},
   "source": [
    " 13. [ ] 设`x`是一个阵列\n",
    "```\n",
    "[[[  0.,   1.,   2.,   3.],\n",
    "  [  4.,   5.,   6.,   7.]],\n",
    "  \n",
    " [[  8.,   9.,  10.,  11.],\n",
    "  [ 12.,  13.,  14.,  15.]]]\n",
    "```\n",
    "\n",
    "把`x`分解成2个阵列，第一个阵列是如下样式：\n",
    "```\n",
    "[[[  0.,   1.,   2.],\n",
    "  [  4.,   5.,   6.]],\n",
    "  \n",
    " [[  8.,   9.,  10.],\n",
    "  [ 12.,  13.,  14.]]]\n",
    "```\n",
    "第二个阵列是如下样式：\n",
    "```\n",
    "[[[  3.],\n",
    "  [  7.]],\n",
    "  \n",
    " [[  11.],\n",
    "  [ 15.]]]\n",
    "```"
   ]
  },
  {
   "cell_type": "code",
   "execution_count": 17,
   "metadata": {},
   "outputs": [
    {
     "data": {
      "text/plain": [
       "[array([[[ 0,  1,  2],\n",
       "         [ 4,  5,  6]],\n",
       " \n",
       "        [[ 8,  9, 10],\n",
       "         [12, 13, 14]]]), array([[[ 3],\n",
       "         [ 7]],\n",
       " \n",
       "        [[11],\n",
       "         [15]]])]"
      ]
     },
     "execution_count": 17,
     "metadata": {},
     "output_type": "execute_result"
    }
   ],
   "source": [
    "x = np.arange(16).reshape(2, 2, 4)\n",
    "out1 = np.split(x, [3], axis=2)\n",
    "out2 = np.dsplit(x, [3])\n",
    "assert np.allclose(out1[0], out2[0])\n",
    "assert np.allclose(out1[1], out2[1])\n",
    "out1"
   ]
  },
  {
   "cell_type": "markdown",
   "metadata": {},
   "source": [
    " 14. [ ] 设`x`是一个阵列：\n",
    "```\n",
    "[[  0.,   1.,   2.,   3.],\n",
    " [  4.,   5.,   6.,   7.],\n",
    " [  8.,   9.,  10.,  11.],\n",
    " [ 12.,  13.,  14.,  15.]]\n",
    "```\n",
    "把`x`沿着第二个轴分解成2个阵列。"
   ]
  },
  {
   "cell_type": "code",
   "execution_count": 18,
   "metadata": {},
   "outputs": [
    {
     "data": {
      "text/plain": [
       "[array([[ 0.,  1.],\n",
       "        [ 4.,  5.],\n",
       "        [ 8.,  9.],\n",
       "        [12., 13.]]), array([[ 2.,  3.],\n",
       "        [ 6.,  7.],\n",
       "        [10., 11.],\n",
       "        [14., 15.]])]"
      ]
     },
     "execution_count": 18,
     "metadata": {},
     "output_type": "execute_result"
    }
   ],
   "source": [
    "x = np.arange(16, dtype=float).reshape(4, 4)\n",
    "out1 = np.split(x, 2, 1)\n",
    "out2 = np.hsplit(x, 2)\n",
    "assert np.allclose(out1[0], out2[0])\n",
    "assert np.allclose(out1[1], out2[1])\n",
    "out1"
   ]
  },
  {
   "cell_type": "markdown",
   "metadata": {},
   "source": [
    " 15. [ ] 设`x`是一个阵列：\n",
    "```\n",
    "[[  0.,   1.,   2.,   3.],\n",
    " [  4.,   5.,   6.,   7.],\n",
    " [  8.,   9.,  10.,  11.],\n",
    " [ 12.,  13.,  14.,  15.]]\n",
    "```\n",
    "把`x`沿着第一个轴划分成2个阵列。"
   ]
  },
  {
   "cell_type": "code",
   "execution_count": 19,
   "metadata": {},
   "outputs": [
    {
     "data": {
      "text/plain": [
       "[array([[0., 1., 2., 3.],\n",
       "        [4., 5., 6., 7.]]), array([[ 8.,  9., 10., 11.],\n",
       "        [12., 13., 14., 15.]])]"
      ]
     },
     "execution_count": 19,
     "metadata": {},
     "output_type": "execute_result"
    }
   ],
   "source": [
    "x = np.arange(16, dtype=float).reshape(4, 4)\n",
    "out1 = np.split(x, 2, 0)\n",
    "out2 = np.vsplit(x, 2)\n",
    "assert np.allclose(out1[0], out2[0])\n",
    "assert np.allclose(out1[1], out2[1])\n",
    "out1"
   ]
  },
  {
   "cell_type": "markdown",
   "metadata": {},
   "source": [
    " 16. [ ] 设`x`是一个阵列`[0, 1, 2]`，把`x`变成如下阵列：\n",
    "```\n",
    "[[0, 1, 2, 0, 1, 2],\n",
    " [0, 1, 2, 0, 1, 2]]\n",
    "```"
   ]
  },
  {
   "cell_type": "code",
   "execution_count": 20,
   "metadata": {},
   "outputs": [
    {
     "data": {
      "text/plain": [
       "array([[0, 1, 2, 0, 1, 2],\n",
       "       [0, 1, 2, 0, 1, 2]])"
      ]
     },
     "execution_count": 20,
     "metadata": {},
     "output_type": "execute_result"
    }
   ],
   "source": [
    "x = np.arange(3)\n",
    "out1 = np.tile(x, [2, 2])\n",
    "out2 = np.resize(x, [2, 6])\n",
    "assert np.allclose(out1, out2)\n",
    "out1"
   ]
  },
  {
   "cell_type": "markdown",
   "metadata": {},
   "source": [
    " 17. [ ] 设`x`是一个阵列`[0, 1, 2]`，把`x`变成如下阵列：`[0, 0, 1, 1, 2, 2]`。"
   ]
  },
  {
   "cell_type": "code",
   "execution_count": 21,
   "metadata": {},
   "outputs": [
    {
     "data": {
      "text/plain": [
       "array([0, 0, 1, 1, 2, 2])"
      ]
     },
     "execution_count": 21,
     "metadata": {},
     "output_type": "execute_result"
    }
   ],
   "source": [
    "x = np.arange(3)\n",
    "np.repeat(x, 2)"
   ]
  },
  {
   "cell_type": "markdown",
   "metadata": {},
   "source": [
    " 18. [ ] 设`x`是一个阵列`[0, 0, 0, 1, 2, 3, 0, 2, 1, 0]`，移除头尾部分的所有`0`。"
   ]
  },
  {
   "cell_type": "code",
   "execution_count": 22,
   "metadata": {},
   "outputs": [
    {
     "data": {
      "text/plain": [
       "array([1, 2, 3, 0, 2, 1])"
      ]
     },
     "execution_count": 22,
     "metadata": {},
     "output_type": "execute_result"
    }
   ],
   "source": [
    "x = np.array((0, 0, 0, 1, 2, 3, 0, 2, 1, 0))\n",
    "np.trim_zeros(x)"
   ]
  },
  {
   "cell_type": "markdown",
   "metadata": {},
   "source": [
    " 19. [ ] 设`x`是一个阵列`[2, 2, 1, 5, 4, 5, 1, 2, 3]`，获得2个阵列，一个是含有不重复的元素阵列，另一个是含有数算元素数量的阵列。"
   ]
  },
  {
   "cell_type": "code",
   "execution_count": 23,
   "metadata": {},
   "outputs": [
    {
     "data": {
      "text/plain": [
       "(array([1, 2, 3, 4, 5]), array([2, 3, 1, 1, 2]))"
      ]
     },
     "execution_count": 23,
     "metadata": {},
     "output_type": "execute_result"
    }
   ],
   "source": [
    "x = np.array([2, 2, 1, 5, 4, 5, 1, 2, 3])\n",
    "unique, counts = np.unique(x, return_counts=True)\n",
    "unique, counts"
   ]
  },
  {
   "cell_type": "markdown",
   "metadata": {},
   "source": [
    " 20. [ ] 设`x`是一个阵列：\n",
    "```\n",
    "[[ 1 2]\n",
    " [ 3 4]]\n",
    "```\n",
    "沿着第二个轴把`x`扣过来。"
   ]
  },
  {
   "cell_type": "code",
   "execution_count": 24,
   "metadata": {},
   "outputs": [
    {
     "data": {
      "text/plain": [
       "array([[2, 1],\n",
       "       [4, 3]])"
      ]
     },
     "execution_count": 24,
     "metadata": {},
     "output_type": "execute_result"
    }
   ],
   "source": [
    "x = np.arange(1, 5).reshape(2, 2)\n",
    "out1 = np.fliplr(x)\n",
    "out2 = x[:, ::-1]\n",
    "assert np.allclose(out1, out2)\n",
    "out1"
   ]
  },
  {
   "cell_type": "markdown",
   "metadata": {},
   "source": [
    " 21. [ ] 设`x`是一个阵列：\n",
    "```\n",
    "[[ 1 2]\n",
    " [ 3 4]]\n",
    "```\n",
    "沿着第一个轴把`x`扣过来。"
   ]
  },
  {
   "cell_type": "code",
   "execution_count": 25,
   "metadata": {},
   "outputs": [
    {
     "data": {
      "text/plain": [
       "array([[3, 4],\n",
       "       [1, 2]])"
      ]
     },
     "execution_count": 25,
     "metadata": {},
     "output_type": "execute_result"
    }
   ],
   "source": [
    "x = np.arange(1, 5).reshape(2, 2)\n",
    "out1 = np.flipud(x)\n",
    "out2 = x[::-1, :]\n",
    "assert np.allclose(out1, out2)\n",
    "out1"
   ]
  },
  {
   "cell_type": "markdown",
   "metadata": {},
   "source": [
    " 22. [ ] 设`x`是一个阵列：\n",
    "```\n",
    "[[ 1 2]\n",
    " [ 3 4]]\n",
    "```\n",
    "顺时针旋转`x`九十度。"
   ]
  },
  {
   "cell_type": "code",
   "execution_count": 26,
   "metadata": {},
   "outputs": [
    {
     "data": {
      "text/plain": [
       "array([[2, 4],\n",
       "       [1, 3]])"
      ]
     },
     "execution_count": 26,
     "metadata": {},
     "output_type": "execute_result"
    }
   ],
   "source": [
    "x = np.arange(1, 5).reshape(2, 2)\n",
    "out = np.rot90(x)\n",
    "out"
   ]
  },
  {
   "cell_type": "markdown",
   "metadata": {},
   "source": [
    " 23. [ ] 设`x`是一个阵列：\n",
    "```\n",
    "[[ 1 2 3 4]\n",
    " [ 5 6 7 8]]\n",
    "```\n",
    "沿着第二个轴把每个元素向右移动一步。"
   ]
  },
  {
   "cell_type": "code",
   "execution_count": 27,
   "metadata": {},
   "outputs": [
    {
     "data": {
      "text/plain": [
       "array([[4, 1, 2, 3],\n",
       "       [8, 5, 6, 7]])"
      ]
     },
     "execution_count": 27,
     "metadata": {},
     "output_type": "execute_result"
    }
   ],
   "source": [
    "x = np.arange(1, 9).reshape(2, 4)\n",
    "np.roll(x, 1, axis=1)"
   ]
  }
 ],
 "metadata": {
  "kernelspec": {
   "display_name": "Python 3",
   "language": "python",
   "name": "python3"
  },
  "language_info": {
   "codemirror_mode": {
    "name": "ipython",
    "version": 3
   },
   "file_extension": ".py",
   "mimetype": "text/x-python",
   "name": "python",
   "nbconvert_exporter": "python",
   "pygments_lexer": "ipython3",
   "version": "3.7.0"
  }
 },
 "nbformat": 4,
 "nbformat_minor": 1
}
