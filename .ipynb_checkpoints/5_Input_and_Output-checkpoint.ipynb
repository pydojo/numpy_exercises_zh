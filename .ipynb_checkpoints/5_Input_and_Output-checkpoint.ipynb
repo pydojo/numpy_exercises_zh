{
 "cells": [
  {
   "cell_type": "markdown",
   "metadata": {},
   "source": [
    "# 输入与输出"
   ]
  },
  {
   "cell_type": "code",
   "execution_count": 1,
   "metadata": {},
   "outputs": [],
   "source": [
    "from __future__ import print_function\n",
    "import numpy as np"
   ]
  },
  {
   "cell_type": "code",
   "execution_count": 2,
   "metadata": {},
   "outputs": [],
   "source": [
    "author = \"kyubyong. https://github.com/Kyubyong/numpy_exercises\""
   ]
  },
  {
   "cell_type": "code",
   "execution_count": 3,
   "metadata": {},
   "outputs": [
    {
     "data": {
      "text/plain": [
       "'1.15.0'"
      ]
     },
     "execution_count": 3,
     "metadata": {},
     "output_type": "execute_result"
    }
   ],
   "source": [
    "np.__version__"
   ]
  },
  {
   "cell_type": "code",
   "execution_count": 4,
   "metadata": {},
   "outputs": [
    {
     "name": "stdout",
     "output_type": "stream",
     "text": [
      "2019-04-17\n"
     ]
    }
   ],
   "source": [
    "from datetime import date\n",
    "print(date.today())"
   ]
  },
  {
   "cell_type": "markdown",
   "metadata": {},
   "source": [
    "## Numpy的二进制文件 (NPY, NPZ)"
   ]
  },
  {
   "cell_type": "markdown",
   "metadata": {},
   "source": [
    " 1. [ ] 把`x`保存成`temp.npy`文件后加载这个文件。"
   ]
  },
  {
   "cell_type": "code",
   "execution_count": 5,
   "metadata": {},
   "outputs": [
    {
     "name": "stdout",
     "output_type": "stream",
     "text": [
      "True\n"
     ]
    }
   ],
   "source": [
    "x = np.arange(10)\n",
    "np.save('temp.npy', x)\n",
    "\n",
    "# 如果当前工作路径下有 'temp.npy' 文件的话，进行文件内容与x是否一样？\n",
    "import os\n",
    "if os.path.exists('temp.npy'):\n",
    "    x2 = np.load('temp.npy')\n",
    "    print(np.array_equal(x, x2))\n"
   ]
  },
  {
   "cell_type": "markdown",
   "metadata": {},
   "source": [
    " 2. [ ] 把`x`和`y`保存到同一个文件 'temp.npz' 中，然后加载这个文件。"
   ]
  },
  {
   "cell_type": "code",
   "execution_count": 6,
   "metadata": {},
   "outputs": [
    {
     "name": "stdout",
     "output_type": "stream",
     "text": [
      "True\n",
      "True\n"
     ]
    }
   ],
   "source": [
    "x = np.arange(10)\n",
    "y = np.arange(11, 20)\n",
    "# np.savez('temp.npz', x=x, y=y)\n",
    "np.savez_compressed('temp.npz', x=x, y=y) # 存储成压缩模式的文件\n",
    "with np.load('temp.npz') as data:\n",
    "    x2 = data['x']\n",
    "    y2 = data['y']\n",
    "    print(np.array_equal(x, x2))\n",
    "    print(np.array_equal(y, y2))\n"
   ]
  },
  {
   "cell_type": "markdown",
   "metadata": {},
   "source": [
    "## 文本文件"
   ]
  },
  {
   "cell_type": "markdown",
   "metadata": {},
   "source": [
    " 3. [ ] 把`x`保存成`'temp.txt'`字符串格式的文件后再加载这个文件。"
   ]
  },
  {
   "cell_type": "code",
   "execution_count": 7,
   "metadata": {},
   "outputs": [
    {
     "data": {
      "text/plain": [
       "array([[0., 1., 2., 3., 4.],\n",
       "       [5., 6., 7., 8., 9.]])"
      ]
     },
     "execution_count": 7,
     "metadata": {},
     "output_type": "execute_result"
    }
   ],
   "source": [
    "x = np.arange(10).reshape(2, 5)\n",
    "header = 'num1 num2 num3 num4 num5'\n",
    "np.savetxt('temp.txt', x, fmt='%d', header=header)\n",
    "np.loadtxt('temp.txt')"
   ]
  },
  {
   "cell_type": "markdown",
   "metadata": {},
   "source": [
    " 4. [ ] 把`x`、`y`和`z`以逐行字符串格式存储到`'temp.txt'`文件里，然后加载这个文件。"
   ]
  },
  {
   "cell_type": "code",
   "execution_count": 8,
   "metadata": {},
   "outputs": [
    {
     "data": {
      "text/plain": [
       "array([[ 0.,  1.,  2.,  3.,  4.,  5.,  6.,  7.,  8.,  9.],\n",
       "       [11., 12., 13., 14., 15., 16., 17., 18., 19., 20.],\n",
       "       [22., 23., 24., 25., 26., 27., 28., 29., 30., 31.]])"
      ]
     },
     "execution_count": 8,
     "metadata": {},
     "output_type": "execute_result"
    }
   ],
   "source": [
    "x = np.arange(10)\n",
    "y = np.arange(11, 21)\n",
    "z = np.arange(22, 32)\n",
    "np.savetxt('temp.txt', (x, y, z), fmt='%d')\n",
    "np.loadtxt('temp.txt')"
   ]
  },
  {
   "cell_type": "markdown",
   "metadata": {},
   "source": [
    " 5. [ ] 把`x`变成字节后加载成阵列。"
   ]
  },
  {
   "cell_type": "code",
   "execution_count": 9,
   "metadata": {},
   "outputs": [
    {
     "name": "stdout",
     "output_type": "stream",
     "text": [
      "True\n"
     ]
    }
   ],
   "source": [
    "x = np.array([1, 2, 3, 4])\n",
    "x_bytes = x.tostring() # 别被方法名误导，实际返回的就是字节内容。\n",
    "x2 = np.frombuffer(x_bytes, dtype=x.dtype) # 可以避免使用unicode作为输入时产生意外表现\n",
    "print(np.array_equal(x, x2))"
   ]
  },
  {
   "cell_type": "markdown",
   "metadata": {},
   "source": [
    " 6. [ ] 把`a`变成一个 ndarray 多空间阵列后再变成一个列表形式。"
   ]
  },
  {
   "cell_type": "code",
   "execution_count": 10,
   "metadata": {},
   "outputs": [
    {
     "name": "stdout",
     "output_type": "stream",
     "text": [
      "True\n"
     ]
    }
   ],
   "source": [
    "a = [[1, 2], [3, 4]]\n",
    "x = np.ndarray((2,2), dtype=int, buffer=np.array(a))\n",
    "a2 = x.tolist()\n",
    "print(a == a2)"
   ]
  },
  {
   "cell_type": "markdown",
   "metadata": {},
   "source": [
    "## 字符串格式化"
   ]
  },
  {
   "cell_type": "markdown",
   "metadata": {},
   "source": [
    " 7. [ ] 把`x`变成一个字符串后再回复成原来状态。"
   ]
  },
  {
   "cell_type": "code",
   "execution_count": 11,
   "metadata": {},
   "outputs": [
    {
     "name": "stdout",
     "output_type": "stream",
     "text": [
      "[[0 1 2 3 4]\n",
      " [5 6 7 8 9]] \n",
      "\n",
      "[[0 1 2 3 4]\n",
      " [5 6 7 8 9]] \n",
      " <class 'str'>\n",
      "\n",
      " 0 1 2 3 4]\n",
      " 5 6 7 8 9]] \n",
      "\n",
      "0 1 2 3 4\n",
      " 5 6 7 8 9 \n",
      "\n",
      "[[0 1 2 3 4]\n",
      " [5 6 7 8 9]]\n"
     ]
    }
   ],
   "source": [
    "x = np.arange(10).reshape(2,5)\n",
    "print(x, '\\n')\n",
    "x_str = np.array_str(x)\n",
    "print(x_str, \"\\n\", type(x_str))\n",
    "x_str = x_str.replace(\"[\", \"\") # [] must be stripped\n",
    "print(\"\\n\", x_str, \"\\n\")\n",
    "x_str = x_str.replace(\"]\", \"\")\n",
    "print(x_str, \"\\n\")\n",
    "x2 = np.fromstring(x_str, dtype=x.dtype, sep=\" \").reshape(x.shape)\n",
    "assert np.array_equal(x, x2)\n",
    "print(x2)\n"
   ]
  },
  {
   "cell_type": "markdown",
   "metadata": {},
   "source": [
    "## 文本格式化选项"
   ]
  },
  {
   "cell_type": "markdown",
   "metadata": {},
   "source": [
    " 8. [ ] 把`x`输出出来，小数点保留1位，不采用科学记数法。"
   ]
  },
  {
   "cell_type": "code",
   "execution_count": 12,
   "metadata": {},
   "outputs": [
    {
     "name": "stdout",
     "output_type": "stream",
     "text": [
      "[[0.5 0.2 0.3 1.  0.7 0.8 0.2 0.  0.  0.2 0.7 0.8 0.8 1.  0.  0.1 0.1 0.1\n",
      "  0.2 0.1 0.7 0.3 1.  0.6 0.6 0.2 0.6 0.7 0.1 0.1 0.  0.7 0.1 0.5 1.  0.2\n",
      "  0.4 0.3 0.5 0.8 0.2 0.8 0.7 0.  0.8 0.5 0.2 0.1 0.5 0.1 0.7 1.  0.8 0.6\n",
      "  0.1 0.9 0.1 0.2 0.3 0.3 0.5 0.4 0.1 0.2 0.2 0.7 0.4 0.8 0.3 0.1 0.2 0.9\n",
      "  0.9 0.4 0.4 0.3 0.5 1.  0.9 0.4 0.8 0.  0.3 0.8 0.  0.6 0.9 0.3 0.7 0.9\n",
      "  0.5 0.3 0.9 0.3 0.3 0.7 0.7 0.7 0.7 0.5]\n",
      " [1.  0.8 0.6 0.3 0.5 0.9 0.2 0.5 0.5 0.4 0.7 0.4 0.2 0.8 0.4 0.2 0.4 0.3\n",
      "  0.6 0.2 0.7 0.3 1.  0.4 0.6 0.7 0.  0.5 0.1 0.6 1.  0.6 0.8 0.7 0.  0.9\n",
      "  0.6 0.6 0.8 0.8 0.2 0.3 0.1 0.7 0.1 0.6 0.7 0.  0.3 0.9 0.4 0.3 0.8 0.6\n",
      "  0.  0.6 0.7 0.9 0.7 0.7 0.1 0.2 1.  0.1 0.6 0.6 0.1 0.4 0.4 0.3 0.1 0.7\n",
      "  0.5 0.5 0.1 0.9 1.  0.8 0.9 0.1 0.4 0.5 0.2 0.2 1.  0.6 0.8 0.7 0.8 0.9\n",
      "  1.  1.  0.5 0.4 0.6 0.2 0.4 0.8 0.9 0.4]\n",
      " [0.5 0.6 0.5 0.1 0.7 0.1 0.8 0.  0.8 0.1 0.1 0.9 0.7 0.7 0.3 0.8 0.8 0.9\n",
      "  0.8 0.3 0.8 0.  0.2 0.  0.8 0.6 1.  0.7 0.4 0.7 0.5 0.4 0.9 0.6 0.4 0.5\n",
      "  1.  0.5 0.2 0.3 0.6 0.7 0.3 0.2 0.9 0.7 0.8 0.  0.5 0.2 0.8 0.5 0.3 0.2\n",
      "  0.2 0.5 0.2 0.2 0.1 0.9 0.2 0.8 0.  0.5 0.6 1.  0.7 0.  0.6 0.6 0.4 0.4\n",
      "  0.8 0.8 0.2 0.9 0.1 0.3 0.9 0.3 0.2 0.8 0.5 0.6 0.1 0.4 0.3 0.  0.9 0.2\n",
      "  0.9 0.9 0.3 1.  0.4 0.7 0.1 0.8 0.3 0.2]\n",
      " [0.9 0.5 0.7 0.9 0.1 0.6 0.7 0.  0.9 0.8 0.5 0.1 0.6 0.3 0.8 0.6 0.1 0.\n",
      "  0.5 0.  0.6 0.6 0.2 0.1 0.4 0.7 0.  0.2 0.2 0.2 0.9 0.5 0.5 0.  0.7 0.6\n",
      "  0.1 0.9 0.5 0.5 0.3 0.4 0.1 0.8 0.6 0.1 0.1 0.2 0.6 0.5 0.3 0.7 0.6 0.9\n",
      "  0.4 0.4 0.2 0.7 0.5 0.4 0.9 0.8 0.7 0.6 0.5 0.4 0.4 0.  0.2 0.1 0.7 0.2\n",
      "  0.5 0.9 0.1 0.6 0.3 0.4 0.3 0.3 1.  0.7 0.5 0.1 0.2 0.6 0.4 0.3 0.1 0.3\n",
      "  0.5 0.8 0.9 0.7 0.4 0.1 0.3 0.3 0.1 0.5]\n",
      " [0.3 0.5 0.5 0.3 0.5 0.3 0.3 0.1 0.9 0.4 0.1 0.6 0.8 0.5 0.1 0.1 0.5 0.4\n",
      "  1.  0.1 0.3 0.  0.  0.8 0.3 0.7 0.6 0.  0.3 0.3 1.  0.9 0.  0.8 0.7 1.\n",
      "  0.9 0.4 0.  0.5 0.7 0.5 0.9 0.5 0.7 0.9 0.  0.1 0.4 0.1 0.8 0.7 0.3 0.1\n",
      "  0.1 0.4 0.9 0.5 1.  0.6 0.1 0.  0.6 0.6 0.  0.8 0.9 0.2 0.1 0.3 0.5 0.\n",
      "  0.2 0.6 0.4 0.  0.7 0.5 0.9 0.3 0.3 0.5 0.2 0.3 0.8 0.6 0.2 0.7 0.5 0.\n",
      "  0.5 0.5 0.3 0.3 0.  0.5 0.9 0.6 0.5 0.3]\n",
      " [0.8 0.1 0.5 0.5 0.3 0.2 1.  0.5 0.5 0.2 0.8 0.8 0.1 0.3 0.5 0.7 0.5 0.1\n",
      "  0.7 0.2 0.6 0.9 0.  0.2 0.9 0.9 0.7 0.9 0.4 1.  0.3 0.1 0.8 0.6 0.8 0.3\n",
      "  0.6 0.1 0.8 0.6 1.  0.6 0.2 0.7 0.4 0.1 0.9 1.  0.4 0.3 0.5 0.8 0.  0.9\n",
      "  0.8 0.2 0.2 0.6 0.8 0.  0.9 1.  0.6 0.9 0.2 1.  0.  0.2 0.2 0.9 0.9 0.1\n",
      "  0.7 0.4 0.2 0.1 0.3 0.7 0.6 0.3 0.3 0.2 0.3 0.3 0.6 0.8 1.  0.8 0.1 0.9\n",
      "  0.7 0.5 0.5 0.8 1.  0.9 0.4 0.5 0.5 0.8]\n",
      " [0.6 0.  0.8 0.5 0.7 0.6 0.1 0.3 0.4 0.2 0.5 0.6 0.3 0.4 0.8 0.5 0.8 0.5\n",
      "  0.  0.5 0.6 0.9 0.3 0.9 0.9 0.4 0.9 0.6 0.1 0.9 0.8 0.8 0.2 0.1 0.4 0.\n",
      "  0.1 0.5 1.  0.3 0.9 0.1 0.5 0.9 0.5 0.4 0.6 0.3 0.4 0.7 0.  0.4 0.4 0.6\n",
      "  0.4 0.7 0.4 0.9 0.8 0.2 0.2 0.7 0.7 0.7 0.4 0.8 0.9 0.6 0.3 0.5 0.  0.9\n",
      "  0.5 0.  0.8 0.1 0.7 0.2 0.2 0.5 0.4 0.7 0.9 0.6 0.4 0.9 0.4 0.8 0.9 0.6\n",
      "  0.6 0.3 0.7 0.7 0.9 0.1 0.4 0.3 0.7 0.7]\n",
      " [0.9 0.5 0.4 0.6 0.5 0.7 0.3 0.2 0.7 0.5 0.4 0.1 0.1 1.  0.7 0.3 0.5 0.3\n",
      "  0.1 0.5 0.3 0.3 0.1 0.8 0.7 0.  0.4 0.8 0.9 0.2 0.5 0.7 0.8 0.9 0.3 0.2\n",
      "  0.4 0.3 0.  0.4 0.4 0.5 0.7 0.7 0.  0.5 0.2 0.5 0.2 0.2 0.7 0.9 0.7 0.3\n",
      "  0.4 1.  0.6 0.9 0.2 0.5 0.2 0.8 1.  1.  0.5 0.1 0.5 0.6 0.1 0.8 0.2 0.\n",
      "  1.  0.  0.6 0.8 0.5 0.9 0.8 0.1 0.8 0.4 0.2 0.9 0.7 0.9 0.9 0.8 0.8 0.8\n",
      "  0.6 0.7 0.1 0.4 0.2 0.4 0.9 0.4 0.9 0.6]\n",
      " [0.4 0.6 0.5 0.4 0.3 1.  0.1 0.7 0.6 0.4 0.8 0.3 0.4 0.7 0.  0.4 0.4 0.2\n",
      "  0.8 0.8 0.5 0.3 0.2 0.4 0.9 0.8 1.  0.9 0.2 0.2 0.3 0.8 0.1 0.2 0.6 0.8\n",
      "  0.3 0.4 0.2 0.5 0.3 1.  0.3 1.  0.2 0.  0.  0.8 0.7 0.3 0.  0.  0.4 1.\n",
      "  0.1 0.9 0.2 0.8 0.7 0.4 0.3 0.2 1.  0.4 0.  0.  0.1 0.4 0.4 0.8 0.5 0.6\n",
      "  0.  0.8 0.1 0.5 0.9 0.2 0.7 0.3 0.4 0.7 0.2 0.2 0.5 0.1 0.  0.9 0.6 0.8\n",
      "  0.6 0.6 0.5 0.  0.7 0.  0.2 0.2 0.5 0.8]\n",
      " [0.8 0.7 0.8 0.3 0.  0.9 0.8 0.4 0.3 0.8 0.7 0.6 0.9 0.3 0.3 0.9 0.9 0.8\n",
      "  0.9 0.5 0.7 0.3 0.9 0.  0.7 0.2 0.9 0.5 0.  0.9 0.3 0.1 0.4 0.2 0.4 0.2\n",
      "  0.4 0.7 0.7 0.8 0.8 0.3 0.1 0.8 0.  0.3 0.1 0.1 0.  0.3 0.6 0.8 0.8 0.6\n",
      "  0.7 0.1 0.3 0.2 0.3 0.4 0.5 0.8 0.1 0.6 0.9 0.6 0.4 0.7 0.3 0.6 0.  0.5\n",
      "  0.3 0.3 0.5 0.6 0.9 1.  1.  0.6 0.6 0.  0.9 0.4 0.5 0.9 0.2 0.4 0.6 0.2\n",
      "  0.8 0.  1.  0.  0.7 0.6 0.2 0.7 0.8 0. ]]\n"
     ]
    }
   ],
   "source": [
    "x = np.random.uniform(size=[10,100])\n",
    "np.set_printoptions(precision=1, threshold=np.nan, suppress=True)\n",
    "print(x)"
   ]
  },
  {
   "cell_type": "markdown",
   "metadata": {},
   "source": [
    "## n进制表示法"
   ]
  },
  {
   "cell_type": "markdown",
   "metadata": {},
   "source": [
    " 9. [ ] 把`12`变成二进制数字的字符串格式。"
   ]
  },
  {
   "cell_type": "code",
   "execution_count": 13,
   "metadata": {},
   "outputs": [
    {
     "data": {
      "text/plain": [
       "'1100'"
      ]
     },
     "execution_count": 13,
     "metadata": {},
     "output_type": "execute_result"
    }
   ],
   "source": [
    "out1 = np.binary_repr(12)\n",
    "out2 = np.base_repr(12, base=2)\n",
    "assert out1 == out2\n",
    "out1"
   ]
  },
  {
   "cell_type": "markdown",
   "metadata": {},
   "source": [
    " 10. [ ] 把`12`变成十六进制数字的字符串格式。"
   ]
  },
  {
   "cell_type": "code",
   "execution_count": 14,
   "metadata": {},
   "outputs": [
    {
     "data": {
      "text/plain": [
       "'C'"
      ]
     },
     "execution_count": 14,
     "metadata": {},
     "output_type": "execute_result"
    }
   ],
   "source": [
    "np.base_repr(12, base=16)"
   ]
  },
  {
   "cell_type": "code",
   "execution_count": 15,
   "metadata": {},
   "outputs": [
    {
     "data": {
      "text/plain": [
       "'C'"
      ]
     },
     "execution_count": 15,
     "metadata": {},
     "output_type": "execute_result"
    }
   ],
   "source": [
    "np.base_repr(12, base=16)"
   ]
  },
  {
   "cell_type": "code",
   "execution_count": null,
   "metadata": {},
   "outputs": [],
   "source": []
  }
 ],
 "metadata": {
  "anaconda-cloud": {},
  "kernelspec": {
   "display_name": "Python 3",
   "language": "python",
   "name": "python3"
  },
  "language_info": {
   "codemirror_mode": {
    "name": "ipython",
    "version": 3
   },
   "file_extension": ".py",
   "mimetype": "text/x-python",
   "name": "python",
   "nbconvert_exporter": "python",
   "pygments_lexer": "ipython3",
   "version": "3.7.0"
  }
 },
 "nbformat": 4,
 "nbformat_minor": 1
}
