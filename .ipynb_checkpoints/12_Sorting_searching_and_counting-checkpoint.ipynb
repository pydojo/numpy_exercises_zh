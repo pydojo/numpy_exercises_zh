{
 "cells": [
  {
   "cell_type": "markdown",
   "metadata": {},
   "source": [
    "# 排序、搜索与数算"
   ]
  },
  {
   "cell_type": "code",
   "execution_count": 1,
   "metadata": {},
   "outputs": [],
   "source": [
    "import numpy as np"
   ]
  },
  {
   "cell_type": "code",
   "execution_count": 2,
   "metadata": {},
   "outputs": [
    {
     "data": {
      "text/plain": [
       "'1.15.0'"
      ]
     },
     "execution_count": 2,
     "metadata": {},
     "output_type": "execute_result"
    }
   ],
   "source": [
    "np.__version__"
   ]
  },
  {
   "cell_type": "code",
   "execution_count": 3,
   "metadata": {},
   "outputs": [],
   "source": [
    "author = 'kyubyong. longinglove@nate.com'"
   ]
  },
  {
   "cell_type": "markdown",
   "metadata": {},
   "source": [
    "## 排序"
   ]
  },
  {
   "cell_type": "markdown",
   "metadata": {},
   "source": [
    " 1. [ ] 沿着第二个轴对`x`进行排序。"
   ]
  },
  {
   "cell_type": "code",
   "execution_count": 5,
   "metadata": {},
   "outputs": [
    {
     "data": {
      "text/plain": [
       "array([[1, 4],\n",
       "       [1, 3]])"
      ]
     },
     "execution_count": 5,
     "metadata": {},
     "output_type": "execute_result"
    }
   ],
   "source": [
    "x = np.array([[1,4],[3,1]])\n",
    "\n",
    "out = np.sort(x, axis=1)\n",
    "x.sort(axis=1)\n",
    "assert np.array_equal(out, x)\n",
    "out"
   ]
  },
  {
   "cell_type": "markdown",
   "metadata": {},
   "source": [
    " 2. [ ] 对姓名对进行排序，然后返回其索引值（先姓后名）。"
   ]
  },
  {
   "cell_type": "code",
   "execution_count": 7,
   "metadata": {},
   "outputs": [
    {
     "data": {
      "text/plain": [
       "array([1, 2, 0])"
      ]
     },
     "execution_count": 7,
     "metadata": {},
     "output_type": "execute_result"
    }
   ],
   "source": [
    "surnames =    ('Hertz',    'Galilei', 'Hertz')\n",
    "first_names = ('Heinrich', 'Galileo', 'Gustav')\n",
    "\n",
    "np.lexsort((surnames, first_names))"
   ]
  },
  {
   "cell_type": "markdown",
   "metadata": {},
   "source": [
    " 3. [ ] 沿着第二个轴排序`x`后返回索引值，即间接排序。"
   ]
  },
  {
   "cell_type": "code",
   "execution_count": 8,
   "metadata": {},
   "outputs": [
    {
     "data": {
      "text/plain": [
       "array([[0, 1],\n",
       "       [1, 0]])"
      ]
     },
     "execution_count": 8,
     "metadata": {},
     "output_type": "execute_result"
    }
   ],
   "source": [
    "x = np.array([[1,4],[3,1]])\n",
    "\n",
    "np.argsort(x, axis=1)"
   ]
  },
  {
   "cell_type": "markdown",
   "metadata": {},
   "source": [
    " 4. [ ] 使用`x`中的第5个元素建立一个分割后的阵列副本。"
   ]
  },
  {
   "cell_type": "code",
   "execution_count": 62,
   "metadata": {},
   "outputs": [
    {
     "name": "stdout",
     "output_type": "stream",
     "text": [
      "x = [2 9 6 1 0 7 3 8 4 5]\n",
      "\n",
      "检查第五个元素之前的元素是否都小于第五元素，之后的元素都大于第五元素。\n",
      "设x = np.array([8,6,9,3,1,4,7,2,0,5]) 时，此项检查不成立！\n"
     ]
    },
    {
     "data": {
      "text/plain": [
       "array([1, 0, 2, 4, 3, 5, 9, 8, 7, 6])"
      ]
     },
     "execution_count": 62,
     "metadata": {},
     "output_type": "execute_result"
    }
   ],
   "source": [
    "x = np.random.permutation(10)\n",
    "print(\"x =\", x)\n",
    "print(\"\\n检查第五个元素之前的元素是否都小于第五元素，\\\n",
    "之后的元素都大于第五元素。\\n\\\n",
    "设x = np.array([8,6,9,3,1,4,7,2,0,5]) 时，此项检查不成立！\")\n",
    "out = np.partition(x, 5)\n",
    "\n",
    "x.partition(5) # 在x上进行内部等价改变支持评估验证\n",
    "assert np.array_equal(x, out)\n",
    "out"
   ]
  },
  {
   "cell_type": "markdown",
   "metadata": {},
   "source": [
    " 5. [ ] 用`x`阵列中第3个元素建立一个分割后的阵列索引。"
   ]
  },
  {
   "cell_type": "code",
   "execution_count": 47,
   "metadata": {},
   "outputs": [
    {
     "name": "stdout",
     "output_type": "stream",
     "text": [
      "x = [4 5 6 8 9 1 2 0 3 7]\n",
      "partitioned = [1 0 2 3 4 6 5 7 8 9]\n",
      "indices = [5 7 6 8 0 2 1 9 3 4]\n"
     ]
    }
   ],
   "source": [
    "x = np.random.permutation(10)\n",
    "print(\"x =\", x)\n",
    "\n",
    "partitioned = np.partition(x, 3)\n",
    "indices = np.argpartition(x, 3)\n",
    "assert np.array_equiv(x[indices], partitioned)\n",
    "print(\"partitioned =\", partitioned)\n",
    "print(\"indices =\", indices)"
   ]
  },
  {
   "cell_type": "markdown",
   "metadata": {},
   "source": [
    "## 搜索"
   ]
  },
  {
   "cell_type": "markdown",
   "metadata": {},
   "source": [
    " 1. [ ] 沿着`x`的第二个轴得到最大的值和最大值索引数，以及最小值和最小值索引数。"
   ]
  },
  {
   "cell_type": "code",
   "execution_count": 49,
   "metadata": {},
   "outputs": [
    {
     "name": "stdout",
     "output_type": "stream",
     "text": [
      "x = [[7 2 5 3 6]\n",
      " [8 9 0 1 4]]\n",
      "x中的最大值 = [7 9]\n",
      "最大值的索引数 = [0 1]\n",
      "x中的最小值 = [2 0]\n",
      "最小值的索引数 = [1 2]\n"
     ]
    }
   ],
   "source": [
    "x = np.random.permutation(10).reshape(2, 5)\n",
    "print(\"x =\", x)\n",
    "print(\"x中的最大值 =\", np.max(x, 1))\n",
    "print(\"最大值的索引数 =\", np.argmax(x, 1))\n",
    "print(\"x中的最小值 =\", np.min(x, 1))\n",
    "print(\"最小值的索引数 =\", np.argmin(x, 1))"
   ]
  },
  {
   "cell_type": "markdown",
   "metadata": {},
   "source": [
    " 2. [ ] 忽略空值情况，沿着`x`的第二个轴得到最大的值和最大值索引数，以及最小值和最小值索引数。"
   ]
  },
  {
   "cell_type": "code",
   "execution_count": 50,
   "metadata": {},
   "outputs": [
    {
     "name": "stdout",
     "output_type": "stream",
     "text": [
      "x中的最大值 = [4. 4.]\n",
      "最大值的索引数 = [1 2]\n",
      "x中的最小值 = [2. 2.]\n",
      "最小值的索引数 = [2 1]\n"
     ]
    }
   ],
   "source": [
    "x = np.array([[np.nan, 4, 2], [3, 2, 4]])\n",
    "print(\"x中的最大值 =\", np.nanmax(x, 1))\n",
    "print(\"最大值的索引数 =\", np.nanargmax(x, 1))\n",
    "print(\"x中的最小值 =\", np.nanmin(x, 1))\n",
    "print(\"最小值的索引数 =\", np.nanargmin(x, 1))"
   ]
  },
  {
   "cell_type": "markdown",
   "metadata": {},
   "source": [
    " 3. [ ] 得到`x`中大于2的所有元素值和`x`中元素的索引数。"
   ]
  },
  {
   "cell_type": "code",
   "execution_count": 52,
   "metadata": {},
   "outputs": [
    {
     "name": "stdout",
     "output_type": "stream",
     "text": [
      "x中大于2的元素值是 = [3 3 5]\n",
      "x中元素的索引数是  (array([0, 1, 1]), array([2, 1, 2]))\n"
     ]
    }
   ],
   "source": [
    "x = np.array([[1, 2, 3], [1, 3, 5]])\n",
    "\n",
    "assert np.array_equiv(x[x>2], x[np.nonzero(x > 2)])\n",
    "assert np.array_equiv(x[x>2], np.extract(x > 2, x))\n",
    "print(\"x中大于2的元素值是 =\", x[x>2])\n",
    "print(\"x中元素的索引数是 \", np.nonzero(x > 2))"
   ]
  },
  {
   "cell_type": "markdown",
   "metadata": {},
   "source": [
    " 4. [ ] 得到扁平化过的`x`中大于2的元素索引数。"
   ]
  },
  {
   "cell_type": "code",
   "execution_count": 54,
   "metadata": {},
   "outputs": [
    {
     "data": {
      "text/plain": [
       "array([2, 4, 5])"
      ]
     },
     "execution_count": 54,
     "metadata": {},
     "output_type": "execute_result"
    }
   ],
   "source": [
    "x = np.array([[1, 2, 3], [1, 3, 5]])\n",
    "\n",
    "assert np.array_equiv(np.flatnonzero(x), x.ravel().nonzero())\n",
    "np.flatnonzero(x>2)"
   ]
  },
  {
   "cell_type": "markdown",
   "metadata": {},
   "source": [
    " 5. [ ] 检查`x`的元素，如果有小于0的元素就返回结果`0`，否则返回元素本身。"
   ]
  },
  {
   "cell_type": "code",
   "execution_count": 55,
   "metadata": {},
   "outputs": [
    {
     "data": {
      "text/plain": [
       "array([[0, 0, 0],\n",
       "       [0, 0, 0],\n",
       "       [1, 2, 3]])"
      ]
     },
     "execution_count": 55,
     "metadata": {},
     "output_type": "execute_result"
    }
   ],
   "source": [
    "x = np.arange(-5, 4).reshape(3, 3)\n",
    "np.where(x < 0, 0, x)"
   ]
  },
  {
   "cell_type": "markdown",
   "metadata": {},
   "source": [
    " 6. [ ] 把`y`的值插入到`x`中，还不影响排序。"
   ]
  },
  {
   "cell_type": "code",
   "execution_count": 59,
   "metadata": {},
   "outputs": [
    {
     "name": "stdout",
     "output_type": "stream",
     "text": [
      "y里的元素要插入x时的索引位是  [0 2 1 3]\n"
     ]
    },
    {
     "data": {
      "text/plain": [
       "array([0, 1, 2, 3, 4, 5, 6, 7, 9])"
      ]
     },
     "execution_count": 59,
     "metadata": {},
     "output_type": "execute_result"
    }
   ],
   "source": [
    "x = [1, 3, 5, 7, 9]\n",
    "y = [0, 4, 2, 6]\n",
    "\n",
    "ind = np.searchsorted(x, y)\n",
    "print(\"y里的元素要插入x时的索引位是 \", ind)\n",
    "np.insert(x, ind, y)"
   ]
  },
  {
   "cell_type": "markdown",
   "metadata": {},
   "source": [
    "## 数算"
   ]
  },
  {
   "cell_type": "markdown",
   "metadata": {},
   "source": [
    " 1. [ ] 数一数`x`里非0的元素数量有多少个？"
   ]
  },
  {
   "cell_type": "code",
   "execution_count": 61,
   "metadata": {},
   "outputs": [
    {
     "data": {
      "text/plain": [
       "5"
      ]
     },
     "execution_count": 61,
     "metadata": {},
     "output_type": "execute_result"
    }
   ],
   "source": [
    "x = [[0,1,7,0,0],[3,0,0,2,19]]\n",
    "\n",
    "assert np.count_nonzero(x) == len(x[x!=0])\n",
    "np.count_nonzero(x)"
   ]
  },
  {
   "cell_type": "code",
   "execution_count": null,
   "metadata": {
    "collapsed": true
   },
   "outputs": [],
   "source": []
  }
 ],
 "metadata": {
  "kernelspec": {
   "display_name": "Python 3",
   "language": "python",
   "name": "python3"
  },
  "language_info": {
   "codemirror_mode": {
    "name": "ipython",
    "version": 3
   },
   "file_extension": ".py",
   "mimetype": "text/x-python",
   "name": "python",
   "nbconvert_exporter": "python",
   "pygments_lexer": "ipython3",
   "version": "3.7.0"
  }
 },
 "nbformat": 4,
 "nbformat_minor": 1
}
